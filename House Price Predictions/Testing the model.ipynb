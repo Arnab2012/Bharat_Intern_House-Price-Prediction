{
 "cells": [
  {
   "cell_type": "code",
   "execution_count": 18,
   "id": "cf5541b9",
   "metadata": {},
   "outputs": [
    {
     "name": "stdout",
     "output_type": "stream",
     "text": [
      "Price of the House will be--> [20.549]\n"
     ]
    }
   ],
   "source": [
    "from sklearn.pipeline import Pipeline\n",
    "from sklearn.preprocessing import StandardScaler\n",
    "from sklearn.impute import SimpleImputer\n",
    "from joblib import dump, load\n",
    "import numpy as np\n",
    "\n",
    "model=load('HousePricePrediction.joblib')\n",
    "my_pipeline=Pipeline([\n",
    "    ('imputer', SimpleImputer(strategy=\"median\")),\n",
    "#     we can add as many as we want\n",
    "    ('std_scaler' ,StandardScaler ())\n",
    "])\n",
    "features=np.array([[0.98843,  0, 8.14, 0, 0.538,\n",
    "       5.813, 100,  4.0952, 4 , 311 ,\n",
    "       21,  394.54, 19.88]])\n",
    "# features=np.array([[-0.43942006,  3.12628155, -1.12165014, -0.27288841, -1.42262747,\n",
    "#        -0.139979304, -1.31238772,  0.61111401, -2.0016859 , -0.5778192 ,\n",
    "#        -0.97491834,  0.41164221, -0.96091034]])\n",
    "features_transform=my_pipeline.fit(features)\n",
    "features_transform=my_pipeline.transform(features)\n",
    "arr=model.predict(features_transform)\n",
    "print(\"Price of the House will be-->\",arr)"
   ]
  },
  {
   "cell_type": "code",
   "execution_count": null,
   "id": "baa721ad",
   "metadata": {},
   "outputs": [],
   "source": []
  }
 ],
 "metadata": {
  "kernelspec": {
   "display_name": "Python 3 (ipykernel)",
   "language": "python",
   "name": "python3"
  },
  "language_info": {
   "codemirror_mode": {
    "name": "ipython",
    "version": 3
   },
   "file_extension": ".py",
   "mimetype": "text/x-python",
   "name": "python",
   "nbconvert_exporter": "python",
   "pygments_lexer": "ipython3",
   "version": "3.10.5"
  }
 },
 "nbformat": 4,
 "nbformat_minor": 5
}
